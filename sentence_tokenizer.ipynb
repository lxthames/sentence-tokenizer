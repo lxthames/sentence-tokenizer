{
  "nbformat": 4,
  "nbformat_minor": 0,
  "metadata": {
    "colab": {
      "provenance": [],
      "authorship_tag": "ABX9TyNEUL8yIu3CD/2AnC5AmLyE",
      "include_colab_link": true
    },
    "kernelspec": {
      "name": "python3",
      "display_name": "Python 3"
    },
    "language_info": {
      "name": "python"
    },
    "gpuClass": "standard"
  },
  "cells": [
    {
      "cell_type": "markdown",
      "metadata": {
        "id": "view-in-github",
        "colab_type": "text"
      },
      "source": [
        "<a href=\"https://colab.research.google.com/github/lxthames/sentence-tokenizer/blob/main/sentence_tokenizer.ipynb\" target=\"_parent\"><img src=\"https://colab.research.google.com/assets/colab-badge.svg\" alt=\"Open In Colab\"/></a>"
      ]
    },
    {
      "cell_type": "code",
      "execution_count": 4,
      "metadata": {
        "colab": {
          "base_uri": "https://localhost:8080/"
        },
        "id": "9gQiz8zS0qxn",
        "outputId": "cae497cd-f9e1-48a4-9c20-02fdee3a5d1a"
      },
      "outputs": [
        {
          "output_type": "stream",
          "name": "stderr",
          "text": [
            "[nltk_data] Downloading package punkt to /root/nltk_data...\n",
            "[nltk_data]   Unzipping tokenizers/punkt.zip.\n"
          ]
        }
      ],
      "source": [
        "import nltk\n",
        "nltk.download('punkt')\n",
        "\n",
        "def split_sentences(strings):\n",
        "    # Initialize an empty list to store the sentences\n",
        "    sentences = []\n",
        "\n",
        "    # Loop over each string in the input list\n",
        "    for string in strings:\n",
        "        # Tokenize the string into sentences using the sent_tokenize function\n",
        "        string_sentences = nltk.sent_tokenize(string)\n",
        "\n",
        "        # Add each sentence to the output list\n",
        "        for sentence in string_sentences:\n",
        "            sentences.append(sentence.strip())\n",
        "\n",
        "    # Return the list of sentences\n",
        "    return sentences"
      ]
    },
    {
      "cell_type": "code",
      "source": [
        "strings =[\"the word by word\"]"
      ],
      "metadata": {
        "id": "oe04hf1505sc"
      },
      "execution_count": 5,
      "outputs": []
    },
    {
      "cell_type": "code",
      "source": [
        "sentences = split_sentences(strings)\n",
        "print(sentences)"
      ],
      "metadata": {
        "id": "yCugTYEA1DzW"
      },
      "execution_count": null,
      "outputs": []
    },
    {
      "cell_type": "code",
      "source": [
        "for st in sentences:\n",
        "  print(\"\\n\"+(st))"
      ],
      "metadata": {
        "colab": {
          "base_uri": "https://localhost:8080/"
        },
        "id": "3hcMq3uP1RFL",
        "outputId": "2d1156b1-68e6-4699-a40d-dc4e2954447d"
      },
      "execution_count": 11,
      "outputs": [
        {
          "output_type": "stream",
          "name": "stdout",
          "text": [
            "\n",
            "the word by word\n"
          ]
        }
      ]
    },
    {
      "cell_type": "code",
      "source": [
        "len(sentences)"
      ],
      "metadata": {
        "colab": {
          "base_uri": "https://localhost:8080/"
        },
        "id": "MYTe2NwI1o8B",
        "outputId": "e2cf0c6e-dc64-4e24-a9d7-36eec947b1b2"
      },
      "execution_count": 12,
      "outputs": [
        {
          "output_type": "execute_result",
          "data": {
            "text/plain": [
              "1"
            ]
          },
          "metadata": {},
          "execution_count": 12
        }
      ]
    },
    {
      "cell_type": "code",
      "source": [],
      "metadata": {
        "id": "KTzduzoN1s35"
      },
      "execution_count": null,
      "outputs": []
    }
  ]
}